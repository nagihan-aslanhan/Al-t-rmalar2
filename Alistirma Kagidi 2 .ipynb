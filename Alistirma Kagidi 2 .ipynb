{
 "cells": [
  {
   "cell_type": "code",
   "execution_count": 1,
   "metadata": {},
   "outputs": [
    {
     "name": "stdout",
     "output_type": "stream",
     "text": [
      "77\n",
      "tahmin:77\n",
      "Tebrikler!\n"
     ]
    }
   ],
   "source": [
    "### ANA KOD\n",
    "##MasterMind\n",
    "from random import randint\n",
    "sayi=randint(10,99)\n",
    "while True:\n",
    "    print(sayi)\n",
    "    guess1 = int(input(\"tahmin:\"))\n",
    "    yanlisyer=0\n",
    "    dogruyer=0\n",
    "    if str(guess1)[0] == str(sayi)[0]:\n",
    "        dogruyer+=1\n",
    "        if str(guess1)[1] == str(sayi)[1]:\n",
    "            dogruyer+=1\n",
    "    elif str(guess1)[0] != str(sayi)[0] and str(guess1)[0] == str(sayi)[1]:\n",
    "        yanlisyer+=1\n",
    "        if str(guess1)[1] == str(sayi)[0] and str(guess1)[1] != str(sayi)[1]:\n",
    "            yanlisyer+=1\n",
    "    elif str(guess1)[1] == str(sayi)[0] and str(guess1)[1] != str(sayi)[1]:\n",
    "        yanlisyer+=1\n",
    "        if str(guess1)[0] != str(sayi)[0] and str(guess1)[0] == str(sayi)[1]:\n",
    "            yanlisyer+=1\n",
    "    elif str(guess1)[0] != str(sayi)[0] and str(guess1)[1] != str(sayi)[1]:\n",
    "        print(\"Tekrar Deneyiniz!\")\n",
    "    if dogruyer==2:\n",
    "        print(\"Tebrikler!\")\n",
    "        break\n",
    "    else:\n",
    "        print(\"yanlış yer: \",yanlisyer)"
   ]
  },
  {
   "cell_type": "code",
   "execution_count": 2,
   "metadata": {},
   "outputs": [
    {
     "data": {
      "text/plain": [
       "28"
      ]
     },
     "execution_count": 2,
     "metadata": {},
     "output_type": "execute_result"
    }
   ],
   "source": [
    "#2. soru, 1'den n'ye kadar olan sayıları rekürsif toplar\n",
    "def topla(n):\n",
    "    if n==0:\n",
    "        return 0\n",
    "    else:\n",
    "        return n + topla(n-1)\n",
    "topla(7)"
   ]
  },
  {
   "cell_type": "code",
   "execution_count": 3,
   "metadata": {},
   "outputs": [
    {
     "data": {
      "text/plain": [
       "6"
      ]
     },
     "execution_count": 3,
     "metadata": {},
     "output_type": "execute_result"
    }
   ],
   "source": [
    "#3. soru rekürsif çarpma\n",
    "def carpma(n):\n",
    "    if n==1:\n",
    "        return 1\n",
    "    else:\n",
    "        return n * carpma(n-1)\n",
    "carpma(3)"
   ]
  },
  {
   "cell_type": "code",
   "execution_count": 4,
   "metadata": {},
   "outputs": [
    {
     "name": "stdout",
     "output_type": "stream",
     "text": [
      "[23333, 23339, 23399, 23993, 29399, 31193, 31379, 37337, 37339, 37397, 59393, 59399, 71933, 73331, 73939]\n"
     ]
    }
   ],
   "source": [
    "##5 digits superPrimes\n",
    "def is_prime(x):\n",
    "    if x == 1 :\n",
    "        return False\n",
    "    i = 2\n",
    "    while i**2 <= x:\n",
    "        if x % i == 0:\n",
    "            return False\n",
    "        i += 1\n",
    "    return True\n",
    "\n",
    "def super_prime(x):\n",
    "    if is_prime(x):\n",
    "        flr = int(x / 10)\n",
    "        if flr != 0:\n",
    "            return super_prime(flr)\n",
    "        return True\n",
    "    return False\n",
    "arr = []\n",
    "limit_min = int(1e4)\n",
    "limit_max = int(1e5 + 1)\n",
    "\n",
    "for x in range(limit_min, limit_max):\n",
    "    if super_prime(x):\n",
    "        arr.append(x)\n",
    "print(arr)"
   ]
  },
  {
   "cell_type": "code",
   "execution_count": 5,
   "metadata": {},
   "outputs": [
    {
     "data": {
      "text/plain": [
       "4"
      ]
     },
     "execution_count": 5,
     "metadata": {},
     "output_type": "execute_result"
    }
   ],
   "source": [
    "## x=1 olunca 0 dönmek isterken false olarak dönüyor. Bir de nasıl daha iyi sunarız?\n",
    "##İkili arama algoritması(recursive olmayan)\n",
    "\n",
    "def binary_search_iter(arr, left, right, x):\n",
    "    while left <= right:\n",
    "        mid = left + (right - left)//2;\n",
    "        if arr[mid] == x:\n",
    "            return mid\n",
    "        elif arr[mid] < x:\n",
    "            left = mid + 1\n",
    "        else:\n",
    "            right= mid - 1\n",
    "    return False\n",
    "binary_search_iter([1,2,3,4,5,6],1,6,5)"
   ]
  },
  {
   "cell_type": "code",
   "execution_count": 6,
   "metadata": {},
   "outputs": [
    {
     "data": {
      "text/plain": [
       "4"
      ]
     },
     "execution_count": 6,
     "metadata": {},
     "output_type": "execute_result"
    }
   ],
   "source": [
    "def binary_search_rec(arr, left, right, x):\n",
    "    if left <= right: \n",
    "        mid = left + (right - left)//2\n",
    "        if arr[mid] == x: \n",
    "            return mid \n",
    "        elif arr[mid] > x: \n",
    "            return binary_search_rec(arr, left, mid-1, x) \n",
    "        else: \n",
    "            return binary_search_rec(arr, mid + 1, right, x) \n",
    "    else: \n",
    "        return False\n",
    "binary_search_rec([1,2,3,4,5,6],1,6,5)"
   ]
  },
  {
   "cell_type": "code",
   "execution_count": null,
   "metadata": {},
   "outputs": [],
   "source": []
  }
 ],
 "metadata": {
  "kernelspec": {
   "display_name": "Python 3",
   "language": "python",
   "name": "python3"
  },
  "language_info": {
   "codemirror_mode": {
    "name": "ipython",
    "version": 3
   },
   "file_extension": ".py",
   "mimetype": "text/x-python",
   "name": "python",
   "nbconvert_exporter": "python",
   "pygments_lexer": "ipython3",
   "version": "3.7.3"
  }
 },
 "nbformat": 4,
 "nbformat_minor": 2
}
